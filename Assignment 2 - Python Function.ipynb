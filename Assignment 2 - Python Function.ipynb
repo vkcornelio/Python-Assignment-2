{
 "cells": [
  {
   "cell_type": "markdown",
   "metadata": {},
   "source": [
    "## Problem Statement"
   ]
  },
  {
   "cell_type": "markdown",
   "metadata": {},
   "source": [
    "Q.1 Write a Python Program to implement your own myreduce() function which works exactly like\n",
    "Python's built-in function reduce()\n"
   ]
  },
  {
   "cell_type": "code",
   "execution_count": 40,
   "metadata": {},
   "outputs": [],
   "source": [
    "list=[10,15,20,30]\n",
    "def addNum(a,b):\n",
    "    return a*b\n",
    "\n",
    "def myreduce(addNum,list): \n",
    "    s=list[0]\n",
    "    for i in list[1:]:\n",
    "        s=addNum(s,i)\n",
    "    print(s)    "
   ]
  },
  {
   "cell_type": "markdown",
   "metadata": {},
   "source": [
    "Q.2 Write a Python program to implement your own myfilter() function which works exactly like\n",
    "Python's built-in function filter()"
   ]
  },
  {
   "cell_type": "code",
   "execution_count": 57,
   "metadata": {},
   "outputs": [],
   "source": [
    "seq=[1,2,3,4,5,6,7,8,9]\n",
    "\n",
    "def evenNum(a):\n",
    "      if a%2==0:\n",
    "            return True\n",
    "      else:\n",
    "            return False\n",
    "\n",
    "def myfilter(evenNum,seq):\n",
    "\n",
    "    result=[]\n",
    "    for item in seq:\n",
    "        if evenNum(item):\n",
    "            result.append(item)\n",
    "    print(result)\n",
    "    \n",
    "    \n",
    "        \n",
    "    "
   ]
  },
  {
   "cell_type": "code",
   "execution_count": null,
   "metadata": {},
   "outputs": [],
   "source": [
    "# Q.3 Implement List comprehensions to produce the following lists.\n",
    "   Write List comprehensions to produce the following Lists\n",
    "   \n",
    "    ['A', 'C', 'A', 'D', 'G', 'I', ’L’, ‘ D’]\n",
    "   \n",
    "    ['x', 'xx', 'xxx', 'xxxx', 'y', 'yy', 'yyy', 'yyyy', 'z', 'zz', 'zzz', 'zzzz']\n",
    "\n",
    "    ['x', 'y', 'z', 'xx', 'yy', 'zz', 'xx', 'yy', 'zz', 'xxxx', 'yyyy', 'zzzz']\n",
    "    \n",
    "    [[2], [3], [4], [3], [4], [5], [4], [5], [6]]\n",
    "\n",
    "    [[2, 3, 4, 5], [3, 4, 5, 6], [4, 5, 6, 7], [5, 6, 7, 8]]\n",
    "\n",
    "    [(1, 1), (2, 1), (3, 1), (1, 2), (2, 2), (3, 2), (1, 3), (2, 3), (3, 3)]"
   ]
  },
  {
   "cell_type": "markdown",
   "metadata": {},
   "source": []
  },
  {
   "cell_type": "code",
   "execution_count": 52,
   "metadata": {},
   "outputs": [
    {
     "name": "stdout",
     "output_type": "stream",
     "text": [
      "['A', 'C', 'A', 'D', 'G', 'I', 'L', 'D']\n",
      "['x', 'xx', 'xxx', 'xxxx', 'y', 'yy', 'yyy', 'yyyy', 'z', 'zz', 'zzz', 'zzzz']\n",
      "['x', 'y', 'z', 'xx', 'yy', 'zz', 'xxx', 'yyy', 'zzz', 'xxxx', 'yyyy', 'zzzz']\n",
      "[[2], [3], [4], [3], [4], [5], [4], [5], [6]]\n",
      "[[2, 3, 4, 5], [3, 4, 5, 6], [4, 5, 6, 7], [5, 6, 7, 8]]\n",
      "[(1, 1), (2, 1), (3, 1), (1, 2), (2, 2), (3, 2), (1, 3), (2, 3), (3, 3)]\n"
     ]
    }
   ],
   "source": [
    "lst1=\"ACADGILD\"\n",
    "new_lst1=[i for i in lst1]\n",
    "print(new_lst1)\n",
    "###\n",
    "lst2=\"xyz\"\n",
    "new_lst2=[i*num for i in lst2 for num in range(1,5)]\n",
    "print(new_lst2)\n",
    "###\n",
    "lst3=\"xyz\"\n",
    "new_lst3=[num*i for num in range(1,5) for i in lst3]\n",
    "print(new_lst3)\n",
    "##\n",
    "input_list = [2,3,4]\n",
    "result = [ [item+num] for item in input_list for num in range(0,3)]\n",
    "print(result)\n",
    "##\n",
    "input_list = [2,3,4,5]\n",
    "result = [ [item+num for item in input_list] for num in range(0,4)  ]\n",
    "print(result)\n",
    "###\n",
    "input_list=[1,2,3]\n",
    "result = [ (b,a) for a in input_list for b in input_list]\n",
    "print(result)\n"
   ]
  },
  {
   "cell_type": "markdown",
   "metadata": {},
   "source": [
    "Q.4 Implement a function longestWord() that takes a list of words and returns the longest one."
   ]
  },
  {
   "cell_type": "code",
   "execution_count": 90,
   "metadata": {},
   "outputs": [],
   "source": [
    "wordlist=[\"vikrant\",\"blaise\",\"neil\",\"priya\",\"rekha\"]\n",
    "result =[]\n",
    "\n",
    "def longestWord():\n",
    "    for item in wordlist:\n",
    "        result.append([len(item),item])\n",
    "    result.sort()\n",
    "    print(result[-1][1])\n",
    "        \n",
    "\n",
    "        "
   ]
  },
  {
   "cell_type": "markdown",
   "metadata": {},
   "source": [
    "Q.5 Write a Python Program(with class concepts) to find the area of the triangle using the below\n",
    "formula.\n",
    "\n",
    "area = (s*(s-a)*(s-b)*(s-c)) ** 0.5\n",
    "\n",
    "Function to take the length of the sides of triangle from user should be defined in the parent\n",
    "class and function to calculate the area should be defined in subclass."
   ]
  },
  {
   "cell_type": "code",
   "execution_count": 33,
   "metadata": {},
   "outputs": [
    {
     "name": "stdout",
     "output_type": "stream",
     "text": [
      "6.0\n"
     ]
    }
   ],
   "source": [
    "class Area:\n",
    "    def __init__(self,a,b,c):\n",
    "        \n",
    "        self.a=a\n",
    "        self.b=b\n",
    "        self.c=c\n",
    "    def area_tri(self):\n",
    "        s= (self.a + self.b + self.c)*0.5\n",
    "        return ((s*(s-self.a)*(s-self.b)*(s-self.c))**0.5)\n",
    "                \n",
    "    \n",
    "tri=Area(5,4,3)\n",
    "print(tri.area_tri())\n"
   ]
  },
  {
   "cell_type": "code",
   "execution_count": null,
   "metadata": {},
   "outputs": [],
   "source": [
    "# Q.6 Write a function filter_long_words() that takes a list of words and an integer n and returns the list\n",
    "of words that are longer than n."
   ]
  },
  {
   "cell_type": "code",
   "execution_count": 148,
   "metadata": {},
   "outputs": [
    {
     "name": "stdout",
     "output_type": "stream",
     "text": [
      "['vikrant', 'surekha']\n"
     ]
    }
   ],
   "source": [
    "wordlength=[\"vikrant\",\"blaise\",\"neil\",\"priya\",\"surekha\"]\n",
    "resultlegth=[]\n",
    "def filter_long_words(n,wordlength):\n",
    "    for word in wordlength:\n",
    "        if n < len(word):\n",
    "            resultlegth.append(word)\n",
    "    print(resultlegth)\n",
    "    \n",
    "filter_long_words(6,wordlength)    \n",
    "         \n",
    "    \n"
   ]
  },
  {
   "cell_type": "markdown",
   "metadata": {},
   "source": [
    "Q.7 Write a Python program using function concept that maps list of words into a list of integers\n",
    "representing the lengths of the corresponding words.\n",
    "    \n",
    "    Hint: If a list [ ab,cde,erty] is passed on to the python function output should come as [2,3,4]\n",
    "    Here 2,3 and 4 are the lengths of the words in the list."
   ]
  },
  {
   "cell_type": "code",
   "execution_count": 122,
   "metadata": {},
   "outputs": [
    {
     "name": "stdout",
     "output_type": "stream",
     "text": [
      "[7, 6, 4, 5, 7]\n"
     ]
    }
   ],
   "source": [
    "wordlist=[\"vikrant\",\"blaise\",\"neil\",\"priya\",\"surekha\"]\n",
    "wordcount =[]\n",
    "\n",
    "def WordCount():\n",
    "    for item in wordlist:\n",
    "        wordcount.append(len(item))\n",
    "    print(wordcount)\n",
    "    \n",
    "WordCount()"
   ]
  },
  {
   "cell_type": "markdown",
   "metadata": {},
   "source": [
    "Q.8 Write a Python function which takes a character (i.e. a string of length 1) and returns True if it is\n",
    "a vowel, False otherwise."
   ]
  },
  {
   "cell_type": "code",
   "execution_count": 117,
   "metadata": {},
   "outputs": [
    {
     "name": "stdout",
     "output_type": "stream",
     "text": [
      "i\n",
      "a\n"
     ]
    }
   ],
   "source": [
    "word=[\"v\",\"i\",\"k\",\"r\",\"a\",\"n\",\"t\"]\n",
    "\n",
    "\n",
    "def wordvowel(word):\n",
    "    vowel=[\"a\",\"e\",\"i\",\"o\",\"u\"]\n",
    "    if word in vowel:\n",
    "        return True\n",
    "    else:\n",
    "        return False\n",
    "\n",
    "result=filter(wordvowel,word)\n",
    "for vowel in result:\n",
    "    print(vowel)\n",
    "\n",
    "    "
   ]
  },
  {
   "cell_type": "markdown",
   "metadata": {},
   "source": [
    "## Great job!"
   ]
  }
 ],
 "metadata": {
  "kernelspec": {
   "display_name": "Python 3",
   "language": "python",
   "name": "python3"
  },
  "language_info": {
   "codemirror_mode": {
    "name": "ipython",
    "version": 3
   },
   "file_extension": ".py",
   "mimetype": "text/x-python",
   "name": "python",
   "nbconvert_exporter": "python",
   "pygments_lexer": "ipython3",
   "version": "3.7.3"
  }
 },
 "nbformat": 4,
 "nbformat_minor": 2
}
